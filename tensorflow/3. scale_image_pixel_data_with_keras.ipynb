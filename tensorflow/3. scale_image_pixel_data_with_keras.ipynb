{
  "nbformat": 4,
  "nbformat_minor": 0,
  "metadata": {
    "colab": {
      "provenance": []
    },
    "kernelspec": {
      "name": "python3",
      "display_name": "Python 3"
    },
    "language_info": {
      "name": "python"
    },
    "accelerator": "GPU",
    "gpuClass": "standard"
  },
  "cells": [
    {
      "cell_type": "markdown",
      "source": [
        "<h1><font color = 'brown' size = '6'>\n",
        "<b>\n",
        "1. Scale Image Pixel Data with Keras\n",
        "</b>\n",
        "</font>\n",
        "</h1>"
      ],
      "metadata": {
        "id": "BBLiubHIti75"
      }
    },
    {
      "cell_type": "markdown",
      "source": [
        "<h1>\n",
        "\n",
        "<ul>\n",
        "<b>\n",
        "<font color = 'brown green' size = '5'>\n",
        "\n",
        "<li>\n",
        "The pixel values in images must be scaled prior to providing the images as input to a deep learning neural network model during the training or evaluation of the model.\n",
        "</li><br>\n",
        "\n",
        "<li>\n",
        "Keras supports data preparation for image data via the <i>ImageDataGenerator</i> class and API.\n",
        "</li><br>\n",
        "\n",
        "</font>\n",
        "</b>\n",
        "</ul>\n",
        "</h1>"
      ],
      "metadata": {
        "id": "4zHQALn8n64V"
      }
    },
    {
      "cell_type": "markdown",
      "source": [
        "<h1><font color = 'brown' size = '6'>\n",
        "<b>\n",
        "1.1 MNIST Handwritten Image Classification Dataset\n",
        "</b>\n",
        "</font>\n",
        "</h1>"
      ],
      "metadata": {
        "id": "86VopGNKTilm"
      }
    },
    {
      "cell_type": "markdown",
      "source": [
        "<h1>\n",
        "<ul>\n",
        "<b>\n",
        "<font color = 'brown green' size = '5'>\n",
        "\n",
        "<li>\n",
        "Before we dive into the usage of the ImageDataGenerator class for preparing image data, we must select an image dataset on which to test the generator.\n",
        "</li><br>\n",
        "\n",
        "<li>\n",
        " The MNIST problem, is an image classification problem comprised of 70,000 images of handwritten digits.\n",
        "</li><br>\n",
        "\n",
        "<li>\n",
        " The goal of the problem is to classify a given image of a handwritten digit as an integer from 0 to 9.\n",
        "</li><br>\n",
        "\n",
        "<li>\n",
        "As such, it is a multiclass image classification problem.\n",
        "</li><br>\n",
        "\n",
        "<li>\n",
        "This dataset is provided as part of the Keras library and can be automatically downloaded and loaded into memory by a call to the <i>keras.datasets.mnist.load data()</i> function.\n",
        "</li><br>\n",
        "\n",
        "</font>\n",
        "</b>\n",
        "</ul>\n",
        "</h1>"
      ],
      "metadata": {
        "id": "yJXbOlTLWUAD"
      }
    },
    {
      "cell_type": "code",
      "source": [
        "# load and summarize the dataset MNIST\n",
        "from tensorflow.keras.datasets import mnist\n",
        "import matplotlib.pyplot as plt\n",
        "\n",
        "# load dataset\n",
        "(train_images, train_labels), (test_images, test_labels) = mnist.load_data()\n",
        "\n",
        "# summarize the data shape\n",
        "print('Train: ', train_images.shape, train_labels.shape)\n",
        "print('Test: ', test_images.shape, test_labels.shape)\n",
        "\n",
        "# summarize the pixel values\n",
        "print('Train: ', train_images.min(), train_images.max(), train_images.mean(), train_images.std())\n",
        "print('Test: ', test_images.min(), test_images.max(), test_images.mean(), test_images.std())\n",
        "print()\n",
        "\n",
        "# show some images of MNIST\n",
        "fig = plt.figure(figsize = (20, 4))\n",
        "for i in range(20):\n",
        "  plt.subplot(2, 10, i+1, xticks = [], yticks = [])\n",
        "  plt.imshow(train_images[i])\n",
        "  plt.title(train_labels[i])"
      ],
      "metadata": {
        "colab": {
          "base_uri": "https://localhost:8080/",
          "height": 408
        },
        "id": "s4_In9GjXXWW",
        "outputId": "9f8eebae-ecea-4968-e7f6-309550c9ad0a"
      },
      "execution_count": null,
      "outputs": [
        {
          "output_type": "stream",
          "name": "stdout",
          "text": [
            "Downloading data from https://storage.googleapis.com/tensorflow/tf-keras-datasets/mnist.npz\n",
            "11490434/11490434 [==============================] - 2s 0us/step\n",
            "Train:  (60000, 28, 28) (60000,)\n",
            "Test:  (10000, 28, 28) (10000,)\n",
            "Train:  0 255 33.318421449829934 78.56748998339798\n",
            "Test:  0 255 33.791224489795916 79.17246322228644\n",
            "\n"
          ]
        },
        {
          "output_type": "display_data",
          "data": {
            "text/plain": [
              "<Figure size 2000x400 with 20 Axes>"
            ],
            "image/png": "[encoded data removed]"
          },
          "metadata": {}
        }
      ]
    },
    {
      "cell_type": "markdown",
      "source": [
        "<h1><font color = 'brown' size = '6'>\n",
        "<b>\n",
        "1.2 ImageDataGenerator Class for Pixel Scaling\n",
        "</b>\n",
        "</font>\n",
        "</h1>"
      ],
      "metadata": {
        "id": "4eWOPXNqT2aR"
      }
    },
    {
      "cell_type": "markdown",
      "source": [
        "<h1>\n",
        "\n",
        "<ul>\n",
        "<b>\n",
        "<font color = 'brown green' size = '5'>\n",
        "\n",
        "<li>\n",
        "The ImageDataGenerator class in Keras provides a suite of techniques for scaling pixel values in your image dataset prior to modeling.\n",
        "</li><br>\n",
        "\n",
        "<li>\n",
        " The class will wrap your image dataset, then when requested, it will return images in batches to the algorithm during training, validation, or evaluation and apply the scaling operations just-in-time.\n",
        "</li><br>\n",
        "\n",
        "<li>\n",
        "This provides an efficient and convenient approach to scaling image data when modeling with neural networks.\n",
        "</li><br>\n",
        "\n",
        "<li>\n",
        "The usage of the ImageDataGenerator class is as follows.\n",
        "\n",
        "<ol>\n",
        "\n",
        "<li>\n",
        "Load your dataset.\n",
        "</li><br>\n",
        "\n",
        "<li>\n",
        "Configure the ImageDataGenerator (e.g. construct an instance).\n",
        "</li><br>\n",
        "\n",
        "<li>\n",
        "Calculate image statistics (e.g. call the fit() function).\n",
        "</li><br>\n",
        "\n",
        "<li>\n",
        "Use the generator to fit the model (e.g. pass the instance to the fit_ generator() function).\n",
        "</li><br>\n",
        "\n",
        "<li>\n",
        "Use the generator to evaluate the model (e.g. pass the instance to the evaluate_generator() function).\n",
        "</li><br>\n",
        "\n",
        "</ol>\n",
        "\n",
        "</li><br>\n",
        "\n",
        "<li>\n",
        "The three main types of pixel scaling techniques supported by the ImageDataGenerator class are as:\n",
        "\n",
        "<ol>\n",
        "\n",
        "<li>\n",
        "Pixel Normalization: scale pixel values to the range 0-1.\n",
        "</li><br>\n",
        "\n",
        "<li>\n",
        "Pixel Centering: scale pixel values to have a zero mean.\n",
        "</li><br>\n",
        "\n",
        "<li>\n",
        "Pixel Standardization: scale pixel values to have a zero mean and unit variance.\n",
        "</li>\n",
        "\n",
        "</ol>\n",
        "\n",
        "</li>\n",
        "\n",
        "</font>\n",
        "</b>\n",
        "</ul>\n",
        "</h1>"
      ],
      "metadata": {
        "id": "CImQXbgpa0R6"
      }
    },
    {
      "cell_type": "markdown",
      "source": [
        "<h1><font color = 'brown' size = '6'>\n",
        "<b>\n",
        "1.3 Normalize Images With ImageDataGenerator\n",
        "</b>\n",
        "</font>\n",
        "</h1>"
      ],
      "metadata": {
        "id": "M8Rllb7BUIWg"
      }
    },
    {
      "cell_type": "markdown",
      "source": [
        "<h1>\n",
        "\n",
        "<ul>\n",
        "<b>\n",
        "<font color = 'brown green' size = '5'>\n",
        "\n",
        "<li>\n",
        "The ImageDataGenerator class can be used to rescale pixel values from the range of 0-255 to the range 0-1 preferred for neural network models.\n",
        "</li><br>\n",
        "\n",
        "<li>\n",
        "Scaling data to the range of 0-1 is traditionally referred to as normalization.\n",
        "</li><br>\n",
        "\n",
        "<li>\n",
        "This can be achieved by setting the rescale argument to a ratio by which each pixel can be multiplied to achieve the desired range.\n",
        "</li><br>\n",
        "\n",
        "<li>\n",
        " In this case, the ratio is 1/255 or about 0.0039.\n",
        "</li>\n",
        "\n",
        "</font>\n",
        "</b>\n",
        "</ul>\n",
        "</h1>"
      ],
      "metadata": {
        "id": "aDC9hifZB92U"
      }
    },
    {
      "cell_type": "code",
      "source": [
        "# example of normalizing or rescaling pixel values\n",
        "from tensorflow.keras.datasets import mnist\n",
        "from tensorflow.keras.preprocessing.image import ImageDataGenerator"
      ],
      "metadata": {
        "id": "K2xLPPy6yBbx"
      },
      "execution_count": null,
      "outputs": []
    },
    {
      "cell_type": "code",
      "source": [
        "# load dataset\n",
        "(trainX, trainY), (testX, testY) = mnist.load_data()"
      ],
      "metadata": {
        "id": "Qt1Rfqy-ysAp"
      },
      "execution_count": null,
      "outputs": []
    },
    {
      "cell_type": "code",
      "source": [
        "# reshape dataset to have a single channel\n",
        "width, height, channels = trainX.shape[1], trainX.shape[2], 1\n",
        "trainX = trainX.reshape((trainX.shape[0], trainX.shape[1], trainX.shape[2], channels))\n",
        "testX = testX.reshape((testX.shape[0], testX.shape[1], testX.shape[2], channels))\n",
        "\n",
        "# confirm the shape of trainX and testX\n",
        "print('Shape of trainX: ', trainX.shape)\n",
        "print('Shape of testX: ', testX.shape)"
      ],
      "metadata": {
        "colab": {
          "base_uri": "https://localhost:8080/"
        },
        "id": "c69dYYeZzQ82",
        "outputId": "32450bd4-f9ac-4251-8b3b-c97af43a5abb"
      },
      "execution_count": null,
      "outputs": [
        {
          "output_type": "stream",
          "name": "stdout",
          "text": [
            "Shape of trainX:  (60000, 28, 28, 1)\n",
            "Shape of testX:  (10000, 28, 28, 1)\n"
          ]
        }
      ]
    },
    {
      "cell_type": "code",
      "source": [
        "# confirm the scale of pixels\n",
        "print('Train min = %.3f, max = %.3f' % (trainX.min(), trainX.max()))\n",
        "print('Test min = %.3f, max = %.3f' % (testX.min(), testX.max()))"
      ],
      "metadata": {
        "colab": {
          "base_uri": "https://localhost:8080/"
        },
        "id": "9XK1bJi928s2",
        "outputId": "ebbc7ed8-793b-47f5-d530-5484391e06ee"
      },
      "execution_count": null,
      "outputs": [
        {
          "output_type": "stream",
          "name": "stdout",
          "text": [
            "Train min = 0.000, max = 255.000\n",
            "Test min = 0.000, max = 255.000\n"
          ]
        }
      ]
    },
    {
      "cell_type": "code",
      "source": [
        "# create generator\n",
        "datagen = ImageDataGenerator(rescale = 1.0 / 255.0)"
      ],
      "metadata": {
        "id": "mKlFg87D4Nst"
      },
      "execution_count": null,
      "outputs": []
    },
    {
      "cell_type": "code",
      "source": [
        "# prepare a iterators to scale image\n",
        "train_iterator = datagen.flow(trainX, trainY, batch_size = 64)\n",
        "test_iterator = datagen.flow(testX, testY, batch_size = 64)\n",
        "\n",
        "# confirm the scaling works\n",
        "batchX, batchy = train_iterator.next()\n",
        "print('Batch shape = %s, min = %.3f, max = %.3f' % (batchX.shape, batchX.min(), batchy.max()))"
      ],
      "metadata": {
        "colab": {
          "base_uri": "https://localhost:8080/"
        },
        "id": "3vWegoQ64jkh",
        "outputId": "cc4a825d-b5fa-48e5-b4b6-1a91b5a15373"
      },
      "execution_count": null,
      "outputs": [
        {
          "output_type": "stream",
          "name": "stdout",
          "text": [
            "Batch shape = (64, 28, 28, 1), min = 0.000, max = 9.000\n"
          ]
        }
      ]
    },
    {
      "cell_type": "markdown",
      "source": [
        "<h1><font color = 'brown' size = '6'>\n",
        "<b>\n",
        "1.4 Center Images With ImageDataGenerator\n",
        "</b>\n",
        "</font>\n",
        "</h1>"
      ],
      "metadata": {
        "id": "7Ey3uFY1UV16"
      }
    },
    {
      "cell_type": "markdown",
      "source": [
        "<h1>\n",
        "\n",
        "<ul>\n",
        "<b>\n",
        "<font color = 'brown green' size = '5'>\n",
        "\n",
        "<li>\n",
        "Another popular pixel scaling method is to calculate the mean pixel value across the entire training dataset, then subtract it from each image.\n",
        "</li><br>\n",
        "\n",
        "<li>\n",
        "This is called centering and has the effect of centering the distribution of pixel values on zero: that is, the mean pixel value for centered images will be zero.\n",
        "</li><br>\n",
        "\n",
        "<li>\n",
        "The ImageDataGenerator class refers to centering that uses the mean calculated on the training dataset as feature-wise centering.\n",
        "</li><br>\n",
        "\n",
        "<li>\n",
        "It requires that the statistic is calculated on the training dataset prior to scaling.\n",
        "</li>\n",
        "\n",
        "</font>\n",
        "</b>\n",
        "</ul>\n",
        "</h1>"
      ],
      "metadata": {
        "id": "Ryg8UnFnDMC_"
      }
    },
    {
      "cell_type": "code",
      "source": [
        "# example of centering a image\n",
        "from tensorflow.keras.datasets import mnist\n",
        "from tensorflow.keras.preprocessing.image import ImageDataGenerator"
      ],
      "metadata": {
        "id": "QOrNy_tI0eVT"
      },
      "execution_count": null,
      "outputs": []
    },
    {
      "cell_type": "code",
      "source": [
        "# load dataset\n",
        "(trainX, trainy), (testX, testy) = mnist.load_data()"
      ],
      "metadata": {
        "id": "jJx4_9sN1Djn"
      },
      "execution_count": null,
      "outputs": []
    },
    {
      "cell_type": "code",
      "source": [
        "# reshape dataset to have a single channel\n",
        "width, height, channels = trainX.shape[1], trainX.shape[2], 1\n",
        "trainX = trainX.reshape((trainX.shape[0], width, height, channels))\n",
        "testX = testX.reshape((testX.shape[0], width, height, channels))"
      ],
      "metadata": {
        "id": "lj1l6IsY38xY"
      },
      "execution_count": null,
      "outputs": []
    },
    {
      "cell_type": "code",
      "source": [
        "# report per image\n",
        "print('Mean train = %.3f, test = %.3f' % (trainX.mean(), testX.mean()))"
      ],
      "metadata": {
        "colab": {
          "base_uri": "https://localhost:8080/"
        },
        "id": "k-YzFp_L5lKZ",
        "outputId": "1f113298-3641-491b-b224-9870788bcf6b"
      },
      "execution_count": null,
      "outputs": [
        {
          "output_type": "stream",
          "name": "stdout",
          "text": [
            "Mean train = 33.318, test = 33.791\n"
          ]
        }
      ]
    },
    {
      "cell_type": "code",
      "source": [
        "# create generator that centers pixels\n",
        "datagen = ImageDataGenerator(featurewise_center = True)"
      ],
      "metadata": {
        "id": "BA2pfsPl6omm"
      },
      "execution_count": null,
      "outputs": []
    },
    {
      "cell_type": "code",
      "source": [
        "# calculate the mean on the training dataset\n",
        "datagen.fit(trainX)\n",
        "print('Data Generator Mean: %.3f' % datagen.mean)"
      ],
      "metadata": {
        "colab": {
          "base_uri": "https://localhost:8080/"
        },
        "id": "p0znslV57MvQ",
        "outputId": "24812f52-2385-4700-dcc5-8c0e4b2f50d7"
      },
      "execution_count": null,
      "outputs": [
        {
          "output_type": "stream",
          "name": "stdout",
          "text": [
            "Data Generator Mean: 33.318\n"
          ]
        },
        {
          "output_type": "stream",
          "name": "stderr",
          "text": [
            "<ipython-input-16-6e81348e7847>:3: DeprecationWarning: Conversion of an array with ndim > 0 to a scalar is deprecated, and will error in future. Ensure you extract a single element from your array before performing this operation. (Deprecated NumPy 1.25.)\n",
            "  print('Data Generator Mean: %.3f' % datagen.mean)\n"
          ]
        }
      ]
    },
    {
      "cell_type": "code",
      "source": [
        "# demonstrate effect on a single batch of samples\n",
        "iterator = datagen.flow(trainX, trainy, batch_size = 64)"
      ],
      "metadata": {
        "id": "1z-LLl3o8Y4-"
      },
      "execution_count": null,
      "outputs": []
    },
    {
      "cell_type": "code",
      "source": [
        "# get a batch\n",
        "batchX, batchy = iterator.next()"
      ],
      "metadata": {
        "id": "gh_EuAZS81aA"
      },
      "execution_count": null,
      "outputs": []
    },
    {
      "cell_type": "code",
      "source": [
        "# mean pixel value in the batch\n",
        "print(batchX.shape, batchX.mean())"
      ],
      "metadata": {
        "colab": {
          "base_uri": "https://localhost:8080/"
        },
        "id": "rzYFt72b87Kg",
        "outputId": "b52624c4-e761-493f-bda1-b9030f5f461a"
      },
      "execution_count": null,
      "outputs": [
        {
          "output_type": "stream",
          "name": "stdout",
          "text": [
            "(64, 28, 28, 1) -1.4996904\n"
          ]
        }
      ]
    },
    {
      "cell_type": "code",
      "source": [
        "# demonstrate effect on entire training dataset\n",
        "iterator = datagen.flow(trainX, trainy, batch_size = len(trainX), shuffle = False)"
      ],
      "metadata": {
        "id": "Dy60d4yD9aEH"
      },
      "execution_count": null,
      "outputs": []
    },
    {
      "cell_type": "code",
      "source": [
        "# get a batch\n",
        "batchX, batchy = iterator.next()"
      ],
      "metadata": {
        "id": "eY82SNH1-fqg"
      },
      "execution_count": null,
      "outputs": []
    },
    {
      "cell_type": "code",
      "source": [
        "# mean pixel value in the batch\n",
        "print(batchX.shape, batchX.mean())"
      ],
      "metadata": {
        "colab": {
          "base_uri": "https://localhost:8080/"
        },
        "id": "0Hn1etF6-uLy",
        "outputId": "c03eb4c7-e65f-4591-88ad-86448b5948ca"
      },
      "execution_count": null,
      "outputs": [
        {
          "output_type": "stream",
          "name": "stdout",
          "text": [
            "(60000, 28, 28, 1) -1.9512918e-05\n"
          ]
        }
      ]
    },
    {
      "cell_type": "markdown",
      "source": [
        "<h1><font color = 'brown' size = '6'>\n",
        "<b>\n",
        "1.5 Standardize Images With ImageDataGenerator\n",
        "</b>\n",
        "</font>\n",
        "</h1>"
      ],
      "metadata": {
        "id": "NBqjDtXwUiLO"
      }
    },
    {
      "cell_type": "markdown",
      "source": [
        "<h1>\n",
        "\n",
        "<ul>\n",
        "<b>\n",
        "<font color = 'brown green' size = '5'>\n",
        "\n",
        "<li>\n",
        "Standardization is a data scaling technique that assumes that the distribution of the data is Gaussian and shifts the distribution of the data to have a mean of zero and a standard deviation of one.\n",
        "</li><br>\n",
        "\n",
        "<li>\n",
        "Data with this distribution is referred to as a standard Gaussian.\n",
        "</li><br>\n",
        "\n",
        "<li>\n",
        "It can be beneficial when training neural networks as the dataset sums to zero and the inputs are small values in the rough range of about -3.0 to 3.0 (e.g. 99.7 of the values will fall within three standard deviations of the mean).\n",
        "</li><br>\n",
        "\n",
        "<li>\n",
        "Standardization of images is achieved by subtracting the mean pixel value and dividing the result by the standard deviation of the pixel values.\n",
        "</li>\n",
        "\n",
        "</font>\n",
        "</b>\n",
        "</ul>\n",
        "</h1>"
      ],
      "metadata": {
        "id": "CHBtTMIIEnAZ"
      }
    },
    {
      "cell_type": "code",
      "execution_count": null,
      "metadata": {
        "id": "CdZyq8mBPRGQ"
      },
      "outputs": [],
      "source": [
        "# example of standardizing a image dataset\n",
        "from keras.datasets import mnist\n",
        "from keras.preprocessing.image import ImageDataGenerator"
      ]
    },
    {
      "cell_type": "code",
      "source": [
        "# load dataset\n",
        "(trainX, trainy), (testX, testy) = mnist.load_data()"
      ],
      "metadata": {
        "id": "4_7UzlbeMCvH"
      },
      "execution_count": null,
      "outputs": []
    },
    {
      "cell_type": "code",
      "source": [
        "# reshape dataset to have a single channel\n",
        "width, height, channels = trainX.shape[1], trainX.shape[2], 1\n",
        "trainX = trainX.reshape((trainX.shape[0], width, height, channels))\n",
        "testX = testX.reshape((testX.shape[0], width, height, channels))"
      ],
      "metadata": {
        "id": "hV9bWlEFMGlQ"
      },
      "execution_count": null,
      "outputs": []
    },
    {
      "cell_type": "code",
      "source": [
        "# report pixel means and standard deviations\n",
        "print('Statistics train = %.3f (%.3f), test = %.3f (%.3f)' % (trainX.mean(), trainX.std(), testX.mean(), testX.std()))"
      ],
      "metadata": {
        "colab": {
          "base_uri": "https://localhost:8080/"
        },
        "id": "UFJg5Xc8MKsm",
        "outputId": "77e522d3-d4cd-4724-e7b3-7ad87f358bd9"
      },
      "execution_count": null,
      "outputs": [
        {
          "output_type": "stream",
          "name": "stdout",
          "text": [
            "Statistics train = 33.318 (78.567), test = 33.791 (79.172)\n"
          ]
        }
      ]
    },
    {
      "cell_type": "code",
      "source": [
        "# create generator that centers pixel values\n",
        "datagen = ImageDataGenerator(featurewise_center=True, featurewise_std_normalization=True)"
      ],
      "metadata": {
        "id": "qQMeDl9mMVLP"
      },
      "execution_count": null,
      "outputs": []
    },
    {
      "cell_type": "code",
      "source": [
        "# calculate the mean on the training dataset\n",
        "datagen.fit(trainX)\n",
        "print('Data Generator mean=%.3f, std=%.3f' % (datagen.mean, datagen.std))"
      ],
      "metadata": {
        "colab": {
          "base_uri": "https://localhost:8080/"
        },
        "id": "OX8Danv7Mf_0",
        "outputId": "14d3233c-51af-490a-a2bf-82671fcd0f95"
      },
      "execution_count": null,
      "outputs": [
        {
          "output_type": "stream",
          "name": "stdout",
          "text": [
            "Data Generator mean=33.318, std=78.567\n"
          ]
        },
        {
          "output_type": "stream",
          "name": "stderr",
          "text": [
            "<ipython-input-29-685cfa085230>:3: DeprecationWarning: Conversion of an array with ndim > 0 to a scalar is deprecated, and will error in future. Ensure you extract a single element from your array before performing this operation. (Deprecated NumPy 1.25.)\n",
            "  print('Data Generator mean=%.3f, std=%.3f' % (datagen.mean, datagen.std))\n"
          ]
        }
      ]
    },
    {
      "cell_type": "code",
      "source": [
        "# demonstrate effect on a single batch of samples\n",
        "iterator = datagen.flow(trainX, trainy, batch_size=64)"
      ],
      "metadata": {
        "id": "qo7R3Si2MoNN"
      },
      "execution_count": null,
      "outputs": []
    },
    {
      "cell_type": "code",
      "source": [
        "# get a batch\n",
        "batchX, batchy = iterator.next()"
      ],
      "metadata": {
        "id": "90CL5aoSMvMS"
      },
      "execution_count": null,
      "outputs": []
    },
    {
      "cell_type": "code",
      "source": [
        "# pixel stats in the batch\n",
        "print(batchX.shape, batchX.mean(), batchX.std())"
      ],
      "metadata": {
        "colab": {
          "base_uri": "https://localhost:8080/"
        },
        "id": "94dlzsu1MzqO",
        "outputId": "dd88b58f-2da5-428e-f93c-cf6d6591b70a"
      },
      "execution_count": null,
      "outputs": [
        {
          "output_type": "stream",
          "name": "stdout",
          "text": [
            "(64, 28, 28, 1) 0.025599798 1.0268577\n"
          ]
        }
      ]
    },
    {
      "cell_type": "code",
      "source": [
        "# demonstrate effect on entire training dataset\n",
        "iterator = datagen.flow(trainX, trainy, batch_size = len(trainX), shuffle=False)"
      ],
      "metadata": {
        "id": "movIgsG0M4Zg"
      },
      "execution_count": null,
      "outputs": []
    },
    {
      "cell_type": "code",
      "source": [
        "# get a batch\n",
        "batchX, batchy = iterator.next()"
      ],
      "metadata": {
        "id": "oL6vIumyM72j"
      },
      "execution_count": null,
      "outputs": []
    },
    {
      "cell_type": "code",
      "source": [
        "# pixel stats in the batch\n",
        "print(batchX.shape, batchX.mean(), batchX.std())"
      ],
      "metadata": {
        "colab": {
          "base_uri": "https://localhost:8080/"
        },
        "id": "1Sx0LhPyM_-n",
        "outputId": "1a3e36c6-9079-4cb4-cc7a-4652492e4b09"
      },
      "execution_count": null,
      "outputs": [
        {
          "output_type": "stream",
          "name": "stdout",
          "text": [
            "(60000, 28, 28, 1) -3.4560264e-07 0.9999998\n"
          ]
        }
      ]
    },
    {
      "cell_type": "code",
      "source": [],
      "metadata": {
        "id": "ml6OyeCYND1Z"
      },
      "execution_count": null,
      "outputs": []
    }
  ]
}