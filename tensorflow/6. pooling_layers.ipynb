{
  "nbformat": 4,
  "nbformat_minor": 0,
  "metadata": {
    "colab": {
      "provenance": []
    },
    "kernelspec": {
      "name": "python3",
      "display_name": "Python 3"
    },
    "language_info": {
      "name": "python"
    },
    "accelerator": "GPU",
    "gpuClass": "standard"
  },
  "cells": [
    {
      "cell_type": "markdown",
      "source": [
        "<h1><font color = 'brown' size = '6'>\n",
        "<b>\n",
        "Pooling Layer in CNNs\n",
        "</b>\n",
        "</font>\n",
        "</h1>"
      ],
      "metadata": {
        "id": "BBLiubHIti75"
      }
    },
    {
      "cell_type": "markdown",
      "source": [
        "<h1>\n",
        "<ul>\n",
        "<font color = 'brown green' size = '5'>\n",
        "<b>\n",
        "\n",
        "<li>\n",
        "Convolutional layers in a convolutional neural network summarize the presence of features in an input image.\n",
        "</li><br>\n",
        "\n",
        "<li>\n",
        "A problem with the output feature maps is that they are sensitive to the location of the features in the input.\n",
        "</li><br>\n",
        "\n",
        "<li>\n",
        "One approach to address this sensitivity is to downsample the feature maps.\n",
        "</li><br>\n",
        "\n",
        "<li>\n",
        "This has the effect of making the resulting downsampled feature maps more\n",
        "robust to changes in the position of the feature in the image, referred to by the technical phrase <i>local translation invariance</i>.\n",
        "</li><br>\n",
        "\n",
        "<li>\n",
        "Pooling layers provide an approach to down sampling feature maps by summarizing the presence of features in patches of the feature map.\n",
        "</li><br>\n",
        "\n",
        "<li>\n",
        "Two common pooling methods are average pooling and max pooling that summarize the average presence of a feature and the most activated presence of a feature respectively.\n",
        "</li><br>\n",
        "\n",
        "<li>\n",
        "This means that the pooling layer will always reduce the size of each feature map by a factor of 2, e.g. each dimension is halved, reducing the number of pixels or values in each feature map to one quarter the size.\n",
        "</li><br>\n",
        "\n",
        "<li>\n",
        "For example, a pooling layer applied to a feature map of 6 × 6 (36 pixels) will result in an output pooled feature map of 3 × 3 (9 pixels). The pooling  operation is specified, rather than learned.\n",
        "</li><br>\n",
        "\n",
        "<li>\n",
        "Two common functions used in the pooling operation are:\n",
        "\n",
        "<ul>\n",
        "<li>\n",
        "Average Pooling: Calculate the average value for each patch on the feature map.</li>\n",
        "<br>\n",
        "<li>\n",
        "Maximum Pooling (or Max Pooling): Calculate the maximum value for each patch of\n",
        "the feature map.\n",
        "</li>\n",
        "\n",
        "</ul>\n",
        "</li><br>\n",
        "\n",
        "</b>\n",
        "</font>\n",
        "</ul>\n",
        "</h1>"
      ],
      "metadata": {
        "id": "_Ue1xy2TN6x5"
      }
    },
    {
      "cell_type": "markdown",
      "source": [
        "<h1><font color = 'brown' size = '6'>\n",
        "<b>\n",
        "Average Pooling Layer\n",
        "</b>\n",
        "</font>\n",
        "</h1>"
      ],
      "metadata": {
        "id": "jHOE7iRl4AJC"
      }
    },
    {
      "cell_type": "markdown",
      "source": [
        "<h1>\n",
        "<ul>\n",
        "<font color = 'brown green' size = '5'>\n",
        "<b>\n",
        "\n",
        "<li>\n",
        "On two-dimensional feature maps, pooling is typically applied in 2 × 2 patches of the feature map with a stride of (2,2).\n",
        "</li><br>\n",
        "\n",
        "<li>\n",
        "Average pooling involves calculating the average for each patch of the feature map.\n",
        "</li><br>\n",
        "\n",
        "<li>\n",
        "This means that each 2 × 2 square of the feature map is downsampled to the\n",
        "average value in the square.\n",
        "</li><br>\n",
        "\n",
        "</b>\n",
        "</font>\n",
        "</ul>\n",
        "</h1>"
      ],
      "metadata": {
        "id": "sZLuIwal4LPo"
      }
    },
    {
      "cell_type": "markdown",
      "source": [
        "1. Importing the required libraries"
      ],
      "metadata": {
        "id": "OspE2H3ZlwVo"
      }
    },
    {
      "cell_type": "code",
      "source": [
        "from tensorflow.keras.models import Sequential\n",
        "from tensorflow.keras.layers import Conv2D\n",
        "from tensorflow.keras.layers import AveragePooling2D\n",
        "\n",
        "from numpy import asarray"
      ],
      "metadata": {
        "id": "jRTbiptU36xq"
      },
      "execution_count": 1,
      "outputs": []
    },
    {
      "cell_type": "markdown",
      "source": [
        "2. Define input data"
      ],
      "metadata": {
        "id": "Pvsz4tNJl3PX"
      }
    },
    {
      "cell_type": "code",
      "source": [
        "data = [\n",
        "        [0, 0, 0, 1, 1, 0, 0, 0],\n",
        "        [0, 0, 0, 1, 1, 0, 0, 0],\n",
        "        [0, 0, 0, 1, 1, 0, 0, 0],\n",
        "        [0, 0, 0, 1, 1, 0, 0, 0],\n",
        "        [0, 0, 0, 1, 1, 0, 0, 0],\n",
        "        [0, 0, 0, 1, 1, 0, 0, 0],\n",
        "        [0, 0, 0, 1, 1, 0, 0, 0],\n",
        "        [0, 0, 0, 1, 1, 0, 0, 0]\n",
        "        ]\n",
        "\n",
        "data = asarray(data)\n",
        "data = data.reshape(1, 8, 8, 1)\n",
        "data.shape"
      ],
      "metadata": {
        "colab": {
          "base_uri": "https://localhost:8080/"
        },
        "id": "hjGzHyGKl9_s",
        "outputId": "7f943aa8-e419-43a9-c60d-3db460999db1"
      },
      "execution_count": 2,
      "outputs": [
        {
          "output_type": "execute_result",
          "data": {
            "text/plain": [
              "(1, 8, 8, 1)"
            ]
          },
          "metadata": {},
          "execution_count": 2
        }
      ]
    },
    {
      "cell_type": "markdown",
      "source": [
        "3. create model"
      ],
      "metadata": {
        "id": "mkXbHo1Dl-xp"
      }
    },
    {
      "cell_type": "code",
      "source": [
        "model = Sequential()\n",
        "model.add(Conv2D(filters = 1, kernel_size = (3, 3), activation = 'relu', input_shape = (8, 8, 1)))\n",
        "model.add(AveragePooling2D())"
      ],
      "metadata": {
        "id": "hnrv8PaPmFO5"
      },
      "execution_count": 3,
      "outputs": []
    },
    {
      "cell_type": "markdown",
      "source": [
        "4. summarize model"
      ],
      "metadata": {
        "id": "aDqvjLgjmGHC"
      }
    },
    {
      "cell_type": "code",
      "source": [
        "model.summary()"
      ],
      "metadata": {
        "colab": {
          "base_uri": "https://localhost:8080/"
        },
        "id": "8FuPTlRHmLKX",
        "outputId": "6916d683-593e-409a-b177-c54395981ce0"
      },
      "execution_count": 4,
      "outputs": [
        {
          "output_type": "stream",
          "name": "stdout",
          "text": [
            "Model: \"sequential\"\n",
            "_________________________________________________________________\n",
            " Layer (type)                Output Shape              Param #   \n",
            "=================================================================\n",
            " conv2d (Conv2D)             (None, 6, 6, 1)           10        \n",
            "                                                                 \n",
            " average_pooling2d (Average  (None, 3, 3, 1)           0         \n",
            " Pooling2D)                                                      \n",
            "                                                                 \n",
            "=================================================================\n",
            "Total params: 10 (40.00 Byte)\n",
            "Trainable params: 10 (40.00 Byte)\n",
            "Non-trainable params: 0 (0.00 Byte)\n",
            "_________________________________________________________________\n"
          ]
        }
      ]
    },
    {
      "cell_type": "markdown",
      "source": [
        "5. Define a vertical line detector"
      ],
      "metadata": {
        "id": "OuQgDIeVmLws"
      }
    },
    {
      "cell_type": "code",
      "source": [
        "detector = [\n",
        "            [[[0]],[[1]],[[0]]],\n",
        "            [[[0]],[[1]],[[0]]],\n",
        "            [[[0]],[[1]],[[0]]]\n",
        "            ]\n",
        "weights = [asarray(detector), asarray([0.0])]\n",
        "weights"
      ],
      "metadata": {
        "colab": {
          "base_uri": "https://localhost:8080/"
        },
        "id": "Cxb55dLqmRa2",
        "outputId": "557b5445-1626-481d-a3e2-0dbd3bf5ebfe"
      },
      "execution_count": 5,
      "outputs": [
        {
          "output_type": "execute_result",
          "data": {
            "text/plain": [
              "[array([[[[0]],\n",
              " \n",
              "         [[1]],\n",
              " \n",
              "         [[0]]],\n",
              " \n",
              " \n",
              "        [[[0]],\n",
              " \n",
              "         [[1]],\n",
              " \n",
              "         [[0]]],\n",
              " \n",
              " \n",
              "        [[[0]],\n",
              " \n",
              "         [[1]],\n",
              " \n",
              "         [[0]]]]),\n",
              " array([0.])]"
            ]
          },
          "metadata": {},
          "execution_count": 5
        }
      ]
    },
    {
      "cell_type": "markdown",
      "source": [
        "6. store the weights in the model"
      ],
      "metadata": {
        "id": "U2eQXOLtmS-c"
      }
    },
    {
      "cell_type": "code",
      "source": [
        "model.set_weights(weights)"
      ],
      "metadata": {
        "id": "Kro0yxFomY37"
      },
      "execution_count": 6,
      "outputs": []
    },
    {
      "cell_type": "markdown",
      "source": [
        "7. apply filter to input data"
      ],
      "metadata": {
        "id": "ekrIQnd7mZhK"
      }
    },
    {
      "cell_type": "code",
      "source": [
        "yhat = model.predict(data)"
      ],
      "metadata": {
        "colab": {
          "base_uri": "https://localhost:8080/"
        },
        "id": "Kx59BF5pmduN",
        "outputId": "965492be-8dac-4356-bc09-8494efcc80fe"
      },
      "execution_count": 7,
      "outputs": [
        {
          "output_type": "stream",
          "name": "stdout",
          "text": [
            "1/1 [==============================] - 1s 1s/step\n"
          ]
        }
      ]
    },
    {
      "cell_type": "markdown",
      "source": [
        "8. enumerate rows"
      ],
      "metadata": {
        "id": "tAAr3dZkmgx6"
      }
    },
    {
      "cell_type": "code",
      "source": [
        "for r in range(yhat.shape[1]):\n",
        "  print([yhat[0, r, c, 0] for c in range(yhat.shape[2])])"
      ],
      "metadata": {
        "colab": {
          "base_uri": "https://localhost:8080/"
        },
        "id": "c-W0_M9mmi0U",
        "outputId": "ef5666f9-e88e-4a8b-b06e-cd505ed0b55d"
      },
      "execution_count": 8,
      "outputs": [
        {
          "output_type": "stream",
          "name": "stdout",
          "text": [
            "[0.0, 3.0, 0.0]\n",
            "[0.0, 3.0, 0.0]\n",
            "[0.0, 3.0, 0.0]\n"
          ]
        }
      ]
    },
    {
      "cell_type": "markdown",
      "source": [
        "<h1><font color = 'brown' size = '6'>\n",
        "<b>\n",
        "Max Pooling Layer\n",
        "</b>\n",
        "</font>\n",
        "</h1>"
      ],
      "metadata": {
        "id": "Fu94I-RJw6eu"
      }
    },
    {
      "cell_type": "markdown",
      "source": [
        "<h1>\n",
        "<ul>\n",
        "<font color = 'brown green' size = '5'>\n",
        "<b>\n",
        "\n",
        "<li>\n",
        "Maximum pooling, or max pooling, is a pooling operation that calculates the maximum, or largest, value in each patch of each feature map.\n",
        "</li><br>\n",
        "\n",
        "<li>\n",
        "The results are downsampled or pooled feature maps that highlight the most present feature in the patch, not the average presence of the features, as in the case of average pooling.\n",
        "</li><br>\n",
        "\n",
        "<li>\n",
        "This has been found to work better in practice than average pooling for computer vision tasks like image classification.\n",
        "</li><br>\n",
        "\n",
        "</b>\n",
        "</font>\n",
        "</ul>\n",
        "</h1>"
      ],
      "metadata": {
        "id": "RkAhBM46w6fA"
      }
    },
    {
      "cell_type": "markdown",
      "source": [
        "1. importing the required libraries"
      ],
      "metadata": {
        "id": "aNxAMQrSx4h8"
      }
    },
    {
      "cell_type": "code",
      "source": [
        "from tensorflow.keras.models import Sequential\n",
        "from tensorflow.keras.layers import Conv2D\n",
        "from tensorflow.keras.layers import MaxPooling2D\n",
        "\n",
        "from numpy import asarray"
      ],
      "metadata": {
        "id": "kLH95fY6xexK"
      },
      "execution_count": 9,
      "outputs": []
    },
    {
      "cell_type": "markdown",
      "source": [
        "2. Define input data"
      ],
      "metadata": {
        "id": "biUeyU-5x9jC"
      }
    },
    {
      "cell_type": "code",
      "source": [
        "data = [\n",
        "        [0, 0, 0, 1, 1, 0, 0, 0],\n",
        "        [0, 0, 0, 1, 1, 0, 0, 0],\n",
        "        [0, 0, 0, 1, 1, 0, 0, 0],\n",
        "        [0, 0, 0, 1, 1, 0, 0, 0],\n",
        "        [0, 0, 0, 1, 1, 0, 0, 0],\n",
        "        [0, 0, 0, 1, 1, 0, 0, 0],\n",
        "        [0, 0, 0, 1, 1, 0, 0, 0],\n",
        "        [0, 0, 0, 1, 1, 0, 0, 0]\n",
        "       ]\n",
        "data = asarray(data)\n",
        "data = data.reshape(1, 8, 8, 1)\n",
        "data.shape"
      ],
      "metadata": {
        "colab": {
          "base_uri": "https://localhost:8080/"
        },
        "id": "4m5tjYmpyD7h",
        "outputId": "16580731-5f0e-440f-be0d-7006b2974cda"
      },
      "execution_count": 10,
      "outputs": [
        {
          "output_type": "execute_result",
          "data": {
            "text/plain": [
              "(1, 8, 8, 1)"
            ]
          },
          "metadata": {},
          "execution_count": 10
        }
      ]
    },
    {
      "cell_type": "markdown",
      "source": [
        "3. create model"
      ],
      "metadata": {
        "id": "bF_cRr-GyEu8"
      }
    },
    {
      "cell_type": "code",
      "source": [
        "model = Sequential()\n",
        "model.add(Conv2D(filters = 1, kernel_size = (3, 3), input_shape = (8, 8, 1)))\n",
        "model.add(MaxPooling2D())"
      ],
      "metadata": {
        "id": "RDF7MO_3yJCx"
      },
      "execution_count": 11,
      "outputs": []
    },
    {
      "cell_type": "markdown",
      "source": [
        "4. summarize model"
      ],
      "metadata": {
        "id": "Xs_jG4lNyJrb"
      }
    },
    {
      "cell_type": "code",
      "source": [
        "model.summary()"
      ],
      "metadata": {
        "colab": {
          "base_uri": "https://localhost:8080/"
        },
        "id": "tphsXBqhyNm4",
        "outputId": "97c24d11-58d9-4fca-ce3f-07503d7efb51"
      },
      "execution_count": 12,
      "outputs": [
        {
          "output_type": "stream",
          "name": "stdout",
          "text": [
            "Model: \"sequential_1\"\n",
            "_________________________________________________________________\n",
            " Layer (type)                Output Shape              Param #   \n",
            "=================================================================\n",
            " conv2d_1 (Conv2D)           (None, 6, 6, 1)           10        \n",
            "                                                                 \n",
            " max_pooling2d (MaxPooling2  (None, 3, 3, 1)           0         \n",
            " D)                                                              \n",
            "                                                                 \n",
            "=================================================================\n",
            "Total params: 10 (40.00 Byte)\n",
            "Trainable params: 10 (40.00 Byte)\n",
            "Non-trainable params: 0 (0.00 Byte)\n",
            "_________________________________________________________________\n"
          ]
        }
      ]
    },
    {
      "cell_type": "markdown",
      "source": [
        "5. Define a vertical line detector"
      ],
      "metadata": {
        "id": "mjV2eGW-yOaM"
      }
    },
    {
      "cell_type": "code",
      "source": [
        "detector = [\n",
        "            [[[0]],[[1]],[[0]]],\n",
        "            [[[0]],[[1]],[[0]]],\n",
        "            [[[0]],[[1]],[[0]]]\n",
        "           ]\n",
        "\n",
        "weights = [asarray(detector), asarray([0.0])]"
      ],
      "metadata": {
        "id": "C-hFIFjdyTsi"
      },
      "execution_count": 13,
      "outputs": []
    },
    {
      "cell_type": "markdown",
      "source": [
        "6. store the weights in the model"
      ],
      "metadata": {
        "id": "voYyt8c4yVTy"
      }
    },
    {
      "cell_type": "code",
      "source": [
        "model.set_weights(weights)"
      ],
      "metadata": {
        "id": "tOYXbO2lybhe"
      },
      "execution_count": 14,
      "outputs": []
    },
    {
      "cell_type": "markdown",
      "source": [
        "7. apply filter to input data"
      ],
      "metadata": {
        "id": "TGeeLO8IycLy"
      }
    },
    {
      "cell_type": "code",
      "source": [
        "yhat = model.predict(data)"
      ],
      "metadata": {
        "colab": {
          "base_uri": "https://localhost:8080/"
        },
        "id": "VqmNiUVJyg34",
        "outputId": "6b8668f4-39c0-4e0e-a1d2-fb785042a202"
      },
      "execution_count": 15,
      "outputs": [
        {
          "output_type": "stream",
          "name": "stdout",
          "text": [
            "1/1 [==============================] - 0s 96ms/step\n"
          ]
        }
      ]
    },
    {
      "cell_type": "markdown",
      "source": [
        "8. enumerate rows"
      ],
      "metadata": {
        "id": "fMLTSzNtyhfp"
      }
    },
    {
      "cell_type": "code",
      "source": [
        "for r in range(yhat.shape[1]):\n",
        "  print([yhat[0, r, c, 0] for c in range(yhat.shape[2])])"
      ],
      "metadata": {
        "colab": {
          "base_uri": "https://localhost:8080/"
        },
        "id": "AQPpXDD3ylpO",
        "outputId": "28f21119-e577-4b06-cb72-e989593446a0"
      },
      "execution_count": 16,
      "outputs": [
        {
          "output_type": "stream",
          "name": "stdout",
          "text": [
            "[0.0, 3.0, 0.0]\n",
            "[0.0, 3.0, 0.0]\n",
            "[0.0, 3.0, 0.0]\n"
          ]
        }
      ]
    },
    {
      "cell_type": "code",
      "source": [],
      "metadata": {
        "id": "ufqMmWnx2aX3"
      },
      "execution_count": null,
      "outputs": []
    }
  ]
}