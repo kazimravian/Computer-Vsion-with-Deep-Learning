{
  "nbformat": 4,
  "nbformat_minor": 0,
  "metadata": {
    "colab": {
      "provenance": []
    },
    "kernelspec": {
      "name": "python3",
      "display_name": "Python 3"
    },
    "language_info": {
      "name": "python"
    },
    "accelerator": "GPU",
    "gpuClass": "standard"
  },
  "cells": [
    {
      "cell_type": "markdown",
      "source": [
        ":<h1>\n",
        "<b>\n",
        "<font color = 'brown' size = \"6\">\n",
        "Convolution in Convolutional Neural Networks\n",
        "</font>\n",
        "</b>\n",
        "</h1>"
      ],
      "metadata": {
        "id": "aft-vr_YNX23"
      }
    },
    {
      "cell_type": "markdown",
      "source": [
        "<h1>\n",
        "<ul>\n",
        "<font color = 'brown green' size = '5'>\n",
        "<b>\n",
        "\n",
        "<li>\n",
        "The convolutional neural network, or CNN for short, is a specialized type of neural network model designed for working with two-dimensional image data, although they can be used with one-dimensional and three-dimensional data.\n",
        "</li><br>\n",
        "\n",
        "<li>\n",
        "Central to the convolutional neural network is the convolutional layer that gives the network its name. This layer performs an operation called a convolution.\n",
        "</li><br>\n",
        "\n",
        "<li>\n",
        "In the context of a convolutional neural network, a convolution is a linear operation that involves the multiplication of a set of weights with the input, much like a traditional neural network.\n",
        "</li><br>\n",
        "\n",
        "<li>\n",
        "Given that the technique was designed for two-dimensional input, the multiplication is performed between an array of input data and a two-dimensional array of weights, called a filter or a kernel.\n",
        "</li><br>\n",
        "\n",
        "</b>\n",
        "</font>\n",
        "</ul>\n",
        "</h1>"
      ],
      "metadata": {
        "id": "_Ue1xy2TN6x5"
      }
    },
    {
      "cell_type": "markdown",
      "source": [
        "<h1>\n",
        "<b>\n",
        "<font color = 'brown'>\n",
        "Example of 1D Convolutional Layer\n",
        "</font>\n",
        "</b>\n",
        "</h1>"
      ],
      "metadata": {
        "id": "WwE4wsFdQBP3"
      }
    },
    {
      "cell_type": "markdown",
      "source": [
        "1. Open colab or jupyter file"
      ],
      "metadata": {
        "id": "2PH4EVwZQXDv"
      }
    },
    {
      "cell_type": "code",
      "execution_count": null,
      "metadata": {
        "id": "4qGzZ8HKtuVr"
      },
      "outputs": [],
      "source": [
        "from tensorflow.keras.models import Sequential\n",
        "from tensorflow.keras.layers import Conv1D\n",
        "\n",
        "import numpy as np"
      ]
    },
    {
      "cell_type": "markdown",
      "source": [
        "2. Define input data"
      ],
      "metadata": {
        "id": "V0w-nFpuQlYs"
      }
    },
    {
      "cell_type": "code",
      "source": [
        "data = np.asarray([0, 0, 0, 1, 1, 0, 0, 0])\n",
        "data = data.reshape(1, 8, 1)\n",
        "data"
      ],
      "metadata": {
        "colab": {
          "base_uri": "https://localhost:8080/"
        },
        "id": "3-yQTsicQq36",
        "outputId": "93b54ec4-f69f-42e2-d644-a9c5dbd22314"
      },
      "execution_count": null,
      "outputs": [
        {
          "output_type": "execute_result",
          "data": {
            "text/plain": [
              "array([[[0],\n",
              "        [0],\n",
              "        [0],\n",
              "        [1],\n",
              "        [1],\n",
              "        [0],\n",
              "        [0],\n",
              "        [0]]])"
            ]
          },
          "metadata": {},
          "execution_count": 16
        }
      ]
    },
    {
      "cell_type": "markdown",
      "source": [
        "3. create model"
      ],
      "metadata": {
        "id": "Nfk29m1jQrwi"
      }
    },
    {
      "cell_type": "code",
      "source": [
        "model = Sequential()\n",
        "model.add(Conv1D(filters = 1, kernel_size = 3, input_shape=(8, 1)))"
      ],
      "metadata": {
        "id": "6PajxncyQwHz"
      },
      "execution_count": null,
      "outputs": []
    },
    {
      "cell_type": "markdown",
      "source": [
        "4. Define a vertical line detector or kernel"
      ],
      "metadata": {
        "id": "lFy_igCCQw2d"
      }
    },
    {
      "cell_type": "code",
      "source": [
        "weights = [np.asarray([[[0]], [[1]], [[0]]]), np.asarray([0.0])]\n",
        "weights"
      ],
      "metadata": {
        "colab": {
          "base_uri": "https://localhost:8080/"
        },
        "id": "59uyqdjyQ2cK",
        "outputId": "07779dd0-ae6d-41f4-ae0a-1f8c94404195"
      },
      "execution_count": null,
      "outputs": [
        {
          "output_type": "execute_result",
          "data": {
            "text/plain": [
              "[array([[[0]],\n",
              " \n",
              "        [[1]],\n",
              " \n",
              "        [[0]]]),\n",
              " array([0.])]"
            ]
          },
          "metadata": {},
          "execution_count": 18
        }
      ]
    },
    {
      "cell_type": "markdown",
      "source": [
        "5. store the weights in the model"
      ],
      "metadata": {
        "id": "4Z-jI8C4Q3Iy"
      }
    },
    {
      "cell_type": "code",
      "source": [
        "model.set_weights(weights)"
      ],
      "metadata": {
        "id": "LKKrYcVHQ7qm"
      },
      "execution_count": null,
      "outputs": []
    },
    {
      "cell_type": "markdown",
      "source": [
        "6. confirm they were stored"
      ],
      "metadata": {
        "id": "uncSigBtQ8fJ"
      }
    },
    {
      "cell_type": "code",
      "source": [
        "print(model.get_weights())"
      ],
      "metadata": {
        "colab": {
          "base_uri": "https://localhost:8080/"
        },
        "id": "coXsUyDyRBg2",
        "outputId": "cc5faa6e-5c2a-4558-f0de-e94e5b4fd7c4"
      },
      "execution_count": null,
      "outputs": [
        {
          "output_type": "stream",
          "name": "stdout",
          "text": [
            "[array([[[0.]],\n",
            "\n",
            "       [[1.]],\n",
            "\n",
            "       [[0.]]], dtype=float32), array([0.], dtype=float32)]\n"
          ]
        }
      ]
    },
    {
      "cell_type": "markdown",
      "source": [
        "7. apply filter to input data"
      ],
      "metadata": {
        "id": "ljes8_vVRCRw"
      }
    },
    {
      "cell_type": "code",
      "source": [
        "yhat = model.predict(data)\n",
        "yhat"
      ],
      "metadata": {
        "colab": {
          "base_uri": "https://localhost:8080/"
        },
        "id": "lNk0aZX4RGN3",
        "outputId": "49d96185-57f1-45e7-cab3-5c006d4c14fc"
      },
      "execution_count": null,
      "outputs": [
        {
          "output_type": "stream",
          "name": "stdout",
          "text": [
            "1/1 [==============================] - 0s 41ms/step\n"
          ]
        },
        {
          "output_type": "execute_result",
          "data": {
            "text/plain": [
              "array([[[0.],\n",
              "        [0.],\n",
              "        [1.],\n",
              "        [1.],\n",
              "        [0.],\n",
              "        [0.]]], dtype=float32)"
            ]
          },
          "metadata": {},
          "execution_count": 21
        }
      ]
    },
    {
      "cell_type": "markdown",
      "source": [
        "<h1>\n",
        "<b>\n",
        "<font color = 'brown'>\n",
        "Example of 2D Convolutional Layer\n",
        "</font>\n",
        "</b>\n",
        "</h1>"
      ],
      "metadata": {
        "id": "08eOEyGA1dl8"
      }
    },
    {
      "cell_type": "markdown",
      "source": [
        "1. Import the required library"
      ],
      "metadata": {
        "id": "EMfefoKt2MMn"
      }
    },
    {
      "cell_type": "code",
      "source": [
        "from tensorflow.keras.models import Sequential\n",
        "from tensorflow.keras.layers import Conv2D\n",
        "\n",
        "from numpy import asarray\n",
        "import matplotlib.pyplot as plt"
      ],
      "metadata": {
        "id": "Clsza7wdVKcG"
      },
      "execution_count": null,
      "outputs": []
    },
    {
      "cell_type": "markdown",
      "source": [
        "2. Define input data"
      ],
      "metadata": {
        "id": "X3c3-Fz52YFf"
      }
    },
    {
      "cell_type": "code",
      "source": [
        "data = [[0, 0, 0, 1, 1, 0, 0, 0],\n",
        "        [0, 0, 0, 1, 1, 0, 0, 0],\n",
        "        [0, 0, 0, 1, 1, 0, 0, 0],\n",
        "        [0, 0, 0, 1, 1, 0, 0, 0],\n",
        "        [0, 0, 0, 1, 1, 0, 0, 0],\n",
        "        [0, 0, 0, 1, 1, 0, 0, 0],\n",
        "        [0, 0, 0, 1, 1, 0, 0, 0],\n",
        "        [0, 0, 0, 1, 1, 0, 0, 0]]\n",
        "\n",
        "data = asarray(data)\n",
        "data = data.reshape(1, 8, 8, 1)\n",
        "data.shape"
      ],
      "metadata": {
        "colab": {
          "base_uri": "https://localhost:8080/"
        },
        "id": "kHvaHsEv2aLp",
        "outputId": "12a97525-54f6-489e-a72d-62dd08229f51"
      },
      "execution_count": null,
      "outputs": [
        {
          "output_type": "execute_result",
          "data": {
            "text/plain": [
              "(1, 8, 8, 1)"
            ]
          },
          "metadata": {},
          "execution_count": 23
        }
      ]
    },
    {
      "cell_type": "markdown",
      "source": [
        "3. Create the model"
      ],
      "metadata": {
        "id": "64Ss6Lb32azZ"
      }
    },
    {
      "cell_type": "code",
      "source": [
        "model = Sequential()\n",
        "model.add(Conv2D(filters = 1, kernel_size = (3,3), input_shape = (8, 8, 1)))"
      ],
      "metadata": {
        "id": "TBm7Jzgu2hMj"
      },
      "execution_count": null,
      "outputs": []
    },
    {
      "cell_type": "markdown",
      "source": [
        "4. Define a vertical line detector"
      ],
      "metadata": {
        "id": "BPYyf7rR2huA"
      }
    },
    {
      "cell_type": "code",
      "source": [
        "detector = [[[[0]],[[1]],[[0]]],\n",
        "           [[[0]],[[1]],[[0]]],\n",
        "           [[[0]],[[1]],[[0]]]]\n",
        "\n",
        "weights = [asarray(detector), asarray([0.0])]"
      ],
      "metadata": {
        "id": "iWKiPqGW2mvf"
      },
      "execution_count": null,
      "outputs": []
    },
    {
      "cell_type": "markdown",
      "source": [
        "5. store the weights in the model"
      ],
      "metadata": {
        "id": "FlTifyPo2nYV"
      }
    },
    {
      "cell_type": "code",
      "source": [
        "model.set_weights(weights)"
      ],
      "metadata": {
        "id": "p1UB0na12rPg"
      },
      "execution_count": null,
      "outputs": []
    },
    {
      "cell_type": "markdown",
      "source": [
        "6. Confirm they were stored"
      ],
      "metadata": {
        "id": "tbVBXmk-2r-J"
      }
    },
    {
      "cell_type": "code",
      "source": [
        "model.get_weights()"
      ],
      "metadata": {
        "colab": {
          "base_uri": "https://localhost:8080/"
        },
        "id": "IL-xBMO-2xkw",
        "outputId": "eb2e3584-2c3b-498e-8696-2ddfb3048c09"
      },
      "execution_count": null,
      "outputs": [
        {
          "output_type": "execute_result",
          "data": {
            "text/plain": [
              "[array([[[[0.]],\n",
              " \n",
              "         [[1.]],\n",
              " \n",
              "         [[0.]]],\n",
              " \n",
              " \n",
              "        [[[0.]],\n",
              " \n",
              "         [[1.]],\n",
              " \n",
              "         [[0.]]],\n",
              " \n",
              " \n",
              "        [[[0.]],\n",
              " \n",
              "         [[1.]],\n",
              " \n",
              "         [[0.]]]], dtype=float32),\n",
              " array([0.], dtype=float32)]"
            ]
          },
          "metadata": {},
          "execution_count": 27
        }
      ]
    },
    {
      "cell_type": "markdown",
      "source": [
        "7. Apply filter to input data"
      ],
      "metadata": {
        "id": "ZAbrm33f2yPe"
      }
    },
    {
      "cell_type": "code",
      "source": [
        "yhat = model.predict(data)"
      ],
      "metadata": {
        "colab": {
          "base_uri": "https://localhost:8080/"
        },
        "id": "wPa5o1FL23Pr",
        "outputId": "482756c6-57a6-4448-de46-c3dd8901ddcb"
      },
      "execution_count": null,
      "outputs": [
        {
          "output_type": "stream",
          "name": "stdout",
          "text": [
            "1/1 [==============================] - 0s 109ms/step\n"
          ]
        }
      ]
    },
    {
      "cell_type": "markdown",
      "source": [
        "8. Print each column in the row"
      ],
      "metadata": {
        "id": "kYcTYJpK23zN"
      }
    },
    {
      "cell_type": "code",
      "source": [
        "for r in range(yhat.shape[1]):\n",
        "# print each column in the row\n",
        "  print([yhat[0,r,c,0] for c in range(yhat.shape[2])])"
      ],
      "metadata": {
        "colab": {
          "base_uri": "https://localhost:8080/"
        },
        "id": "JkJTjjVK28ix",
        "outputId": "b55bd20d-61b8-44e0-c242-26a9f305684c"
      },
      "execution_count": null,
      "outputs": [
        {
          "output_type": "stream",
          "name": "stdout",
          "text": [
            "[0.0, 0.0, 3.0, 3.0, 0.0, 0.0]\n",
            "[0.0, 0.0, 3.0, 3.0, 0.0, 0.0]\n",
            "[0.0, 0.0, 3.0, 3.0, 0.0, 0.0]\n",
            "[0.0, 0.0, 3.0, 3.0, 0.0, 0.0]\n",
            "[0.0, 0.0, 3.0, 3.0, 0.0, 0.0]\n",
            "[0.0, 0.0, 3.0, 3.0, 0.0, 0.0]\n"
          ]
        }
      ]
    }
  ]
}